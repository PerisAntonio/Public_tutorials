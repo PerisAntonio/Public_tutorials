{
 "cells": [
  {
   "cell_type": "code",
   "execution_count": 9,
   "id": "8ce8c382-d023-48e8-b5e2-2d884622ebe9",
   "metadata": {},
   "outputs": [],
   "source": [
    "import json\n",
    "import networkx as nx\n",
    "from dimod import ConstrainedQuadraticModel, Binary, quicksum\n",
    "from dwave.system import LeapHybridCQMSampler\n",
    "\n",
    "def build_cqm(G, num_colors):\n",
    "    \"\"\"Build CQM model.\"\"\"\n",
    "\n",
    "\n",
    "    # Initialize the CQM object\n",
    "    cqm = ConstrainedQuadraticModel()\n",
    "\n",
    "    # Build CQM variables\n",
    "    colors = {n: {c: Binary((n, c)) for c in range(num_colors)} for n in G.nodes}\n",
    "\n",
    "    # Add constraint to make variables discrete\n",
    "    for n in G.nodes():\n",
    "        cqm.add_discrete([(n, c) for c in range(num_colors)])\n",
    "  \n",
    "    # Build the constraints: edges have different color end points\n",
    "    for u, v in G.edges:\n",
    "        for c in range(num_colors):\n",
    "            cqm.add_constraint(colors[u][c]*colors[v][c] == 0)\n",
    "\n",
    "    return cqm\n",
    "\n",
    "def run_hybrid_solver(cqm):\n",
    "    \"\"\"Solve CQM using hybrid solver.\"\"\"\n",
    "\n",
    "    # Initialize the CQM solver\n",
    "    sampler = LeapHybridCQMSampler(token='YOUR_DWAVE_TOKEN')\n",
    "\n",
    "    # Solve the problem using the CQM solver\n",
    "    sampleset = sampler.sample_cqm(cqm, label='Example - Graph Coloring')\n",
    "    feasible_sampleset = sampleset.filter(lambda row: row.is_feasible)\n",
    "\n",
    "    try:\n",
    "        sample = feasible_sampleset.first.sample\n",
    "    except Exception as e:\n",
    "        print(e)\n",
    "        return False\n",
    "\n",
    "    soln = {key[0]: key[1] for key, val in sample.items() if val == 1.0}\n",
    "\n",
    "    return soln"
   ]
  },
  {
   "cell_type": "code",
   "execution_count": 10,
   "id": "632f8522-9b8b-44f8-89f9-d0e0b973850d",
   "metadata": {
    "tags": []
   },
   "outputs": [],
   "source": [
    "data={\"data\": {\"edges\": [[0, 1], [0, 2], [1, 3], [2, 3], [1, 4],[3,4]]}}"
   ]
  },
  {
   "cell_type": "code",
   "execution_count": 11,
   "id": "369ba1e0-51a8-4da5-b286-bd713c9eb77a",
   "metadata": {},
   "outputs": [
    {
     "name": "stdout",
     "output_type": "stream",
     "text": [
      "SampleSet is empty\n"
     ]
    },
    {
     "data": {
      "text/plain": [
       "{'groups': {'colour_1': [1, 2], 'colour_2': [0, 3], 'colour_3': [4]},\n",
       " 'number_of_colours': 3}"
      ]
     },
     "execution_count": 11,
     "metadata": {},
     "output_type": "execute_result"
    }
   ],
   "source": [
    "import networkx as nx\n",
    "G=nx.Graph()\n",
    "for x in data['data']['edges']:\n",
    "    G.add_edge(x[0],x[1])\n",
    "num_colors = max(d for _, d in G.degree()) +1\n",
    "res=None\n",
    "follow=True\n",
    "while(follow==True):\n",
    "    cqm = build_cqm(G, num_colors)\n",
    "    sample = run_hybrid_solver(cqm)\n",
    "    if(sample is not False):\n",
    "        res=sample\n",
    "        num_colors=num_colors-1\n",
    "    else:\n",
    "        follow=False\n",
    "r=[[] for i in range(max([res[x] for x in res])+1)]\n",
    "for x in res:\n",
    "    r[res[x]].append(x)\n",
    "output={}\n",
    "output['groups']={\"colour_\"+str(i+1):r[i] for i in range(len(r))}\n",
    "output['number_of_colours']=len(r)\n",
    "output"
   ]
  },
  {
   "cell_type": "code",
   "execution_count": null,
   "id": "c5131d13-69b2-488b-8a25-c378999e7f66",
   "metadata": {},
   "outputs": [],
   "source": []
  }
 ],
 "metadata": {
  "kernelspec": {
   "display_name": "Python 3 (ipykernel)",
   "language": "python",
   "name": "python3"
  },
  "language_info": {
   "codemirror_mode": {
    "name": "ipython",
    "version": 3
   },
   "file_extension": ".py",
   "mimetype": "text/x-python",
   "name": "python",
   "nbconvert_exporter": "python",
   "pygments_lexer": "ipython3",
   "version": "3.9.16"
  }
 },
 "nbformat": 4,
 "nbformat_minor": 5
}
